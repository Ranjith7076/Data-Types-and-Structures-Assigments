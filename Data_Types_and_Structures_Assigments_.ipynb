{
  "nbformat": 4,
  "nbformat_minor": 0,
  "metadata": {
    "colab": {
      "provenance": []
    },
    "kernelspec": {
      "name": "python3",
      "display_name": "Python 3"
    },
    "language_info": {
      "name": "python"
    }
  },
  "cells": [
    {
      "cell_type": "markdown",
      "source": [
        "1. what are data structures and why are they important in python ?\n",
        "* Function is a block of code which perfurm some specify task or computation\n",
        "* functions are reusable, neat, clean and keep code organised, save time aswell\n",
        "\n",
        "2. Explain the difference ,between mutable and immutable data types with examples.\n",
        "* A Mutable data type means its value can be changed after it's created,  immutable data type cannot be modified once created.\n",
        "* example for Mutable\n"
      ],
      "metadata": {
        "id": "QjKsNtBGb8Am"
      }
    },
    {
      "cell_type": "code",
      "source": [
        "name = ['Ranjith', 'Pavan', 'Sree']\n",
        "\n",
        "#add element in the existing list\n",
        "name.append('Sundar')\n",
        "\n",
        "#print the result\n",
        "print(name)"
      ],
      "metadata": {
        "colab": {
          "base_uri": "https://localhost:8080/"
        },
        "id": "QhAT3mJ4ePOk",
        "outputId": "5d2bacff-dae1-4d46-c948-3c172a8e2bb6"
      },
      "execution_count": null,
      "outputs": [
        {
          "output_type": "stream",
          "name": "stdout",
          "text": [
            "['Ranjith', 'Pavan', 'Sree', 'Sundar']\n"
          ]
        }
      ]
    },
    {
      "cell_type": "markdown",
      "source": [
        "3. what are the main differences between lists and tuples in python?\n",
        "* List Can be modified, Tuples Cannot be modified.\n",
        "* List have Less memory efficient, Tuples have More memory efficient.\n",
        "* List is Slower comper to tuples.\n",
        "* List Created using square brackets [], tuples Created using parentheses ()\n",
        "\n",
        "4. describe how dictionaries store data in python ?\n",
        "* A Python dictionary is a data structure that stores the value in key: value pairs. Values in a dictionary can be of any data type and can be duplicated, whereas keys can't be repeated and must be immutable.\n",
        "\n",
        "5. Why might you use a set instead of a list in python ?\n",
        "* The Python sets are highly useful to efficiently remove duplicate values from a collection like a list and to perform common math operations like unions and intersections.\n",
        "\n",
        "6. What is a string in python, and how is it different from a list?\n",
        "* In Python, a string is a sequence of characters. For example, \"hello\" is a string containing a sequence of characters 'h' , 'e' , 'l' , 'l' , and 'o' . We use single quotes or double quotes to represent a string in Python.\n",
        "* A list is a sequence of items, where each item could be anything (an integer, a float, a string, etc).\n",
        "\n",
        "7. How do tuples ensure data integrity in python?\n",
        "* Tuples are used to store multiple items in a single variable. Tuple is one of 4 built-in data types in Python used to store collections of data, the other 3 are List, Set, and Dictionary, all with different qualities and usage. A tuple is a collection which is ordered and unchangeable.\n",
        "\n",
        "\n",
        "8. what is a hash tables, and how does it relate to dictionaries in python\n",
        "* Hash Table in Python is a data structure which stores data by using a pair of values and keys. Each data value is allocated an exclusive key that is created by using the hash functions.\n",
        "* Python's built-in dict type is an implementation of a hash table.\n",
        "* Dictionaries are unordered collections of key-value pairs.\n",
        "* The keys in a dictionary are unique and immutable.\n",
        "* The values in a dictionary can be of any type and are mutable.\n",
        "\n",
        "9. Can lists contain different data types in python?\n",
        "* it's not really common, a list can also contain a mix of Python types including strings, floats, and booleans.\n",
        "\n",
        "10. Explain why strings are immutables in Python.\n",
        "* Strings in Python are immutable which means they can not be changed after they are created.\n",
        "\n",
        "11. What advantages do dictionaries offer over lists for certain tasks?\n",
        "* Dictionaries offer several advantages over lists.\n",
        "\n",
        "* Fast Lookups\n",
        "\n",
        "* Key-Value Pair Storage\n",
        "\n",
        "* No Need for Sequential Indexing\n",
        "\n",
        "* Efficient Membership Testing\n",
        "\n",
        "* Easier Data Organization\n",
        "* Flexibility in Data Storage\n",
        "* Memory Efficiency for Sparse Data\n",
        "* Eliminates Need for Iteration in Some Cases\n",
        "\n",
        "12. Describe a scenario where using a tuple would be preferable over list"
      ],
      "metadata": {
        "id": "Yrom93jsfo19"
      }
    },
    {
      "cell_type": "code",
      "source": [
        "#use cases of tuple >> Aadhar card, ATM, you dont want to edit this is tuple to store the data\n",
        "emp_name = (\"Ranjith\", \"Pavan\", \"Sree\", \"Ravi\")"
      ],
      "metadata": {
        "id": "lnWBXSH00eEK"
      },
      "execution_count": null,
      "outputs": []
    },
    {
      "cell_type": "code",
      "source": [
        "emp_name"
      ],
      "metadata": {
        "colab": {
          "base_uri": "https://localhost:8080/"
        },
        "id": "ZqL4zXaP2s9V",
        "outputId": "2365eece-28d5-4ea7-eb0d-1ff55f8901fb"
      },
      "execution_count": null,
      "outputs": [
        {
          "output_type": "execute_result",
          "data": {
            "text/plain": [
              "('Ranjith', 'Pavan', 'Sree', 'Ravi')"
            ]
          },
          "metadata": {},
          "execution_count": 4
        }
      ]
    },
    {
      "cell_type": "code",
      "source": [
        "emp_name[2] = \"Anitha\" #tuples are immutable"
      ],
      "metadata": {
        "colab": {
          "base_uri": "https://localhost:8080/",
          "height": 141
        },
        "id": "HPrpVUNo2wDG",
        "outputId": "06845e85-5c8c-48bf-cfcc-9c57dbef6aaf"
      },
      "execution_count": null,
      "outputs": [
        {
          "output_type": "error",
          "ename": "TypeError",
          "evalue": "'tuple' object does not support item assignment",
          "traceback": [
            "\u001b[0;31m---------------------------------------------------------------------------\u001b[0m",
            "\u001b[0;31mTypeError\u001b[0m                                 Traceback (most recent call last)",
            "\u001b[0;32m<ipython-input-5-acbb2ee5f007>\u001b[0m in \u001b[0;36m<cell line: 0>\u001b[0;34m()\u001b[0m\n\u001b[0;32m----> 1\u001b[0;31m \u001b[0memp_name\u001b[0m\u001b[0;34m[\u001b[0m\u001b[0;36m2\u001b[0m\u001b[0;34m]\u001b[0m \u001b[0;34m=\u001b[0m \u001b[0;34m\"Anitha\"\u001b[0m \u001b[0;31m#tuples are immutable\u001b[0m\u001b[0;34m\u001b[0m\u001b[0;34m\u001b[0m\u001b[0m\n\u001b[0m",
            "\u001b[0;31mTypeError\u001b[0m: 'tuple' object does not support item assignment"
          ]
        }
      ]
    },
    {
      "cell_type": "markdown",
      "source": [
        "13. How do sets handle duplicate values in Python?\n",
        "* In Python, sets automatically handle duplicate values by ensuring all elements are unique. When you add duplicate elements to a set, Python ignores them rather than storing multiple copies.\n",
        "\n",
        "14. How does the\"in\" keyword work differently for lists and dictionaries?\n",
        "* \"in\" with Lists -\n",
        "When used with a list, in checks whether a specific value exists anywhere in the list by iterating through each element one by one.\n",
        "* \"in\" with Dictionaries -\n",
        "When used with a dictionary, in checks for the existence of a key, not a value. Dictionary lookups use hashing, making them significantly faster.\n",
        "\n",
        "15. Can you modify the elements of a tuples? Explain why or why not.\n",
        "* No, tuples are immutable in Python, meaning you cannot modify their elements after creation. If you try to change an element, Python will raise a TypeError.\n",
        "\n",
        "16. What is a nested dictionary, and give an example of its use case?\n",
        "* A nested dictionary is a dictionary inside another dictionary. It allows you to store hierarchical or structured data in Python. Each key in the outer dictionary can have a dictionary as its value.\n"
      ],
      "metadata": {
        "id": "1gs_VPwH3M-Z"
      }
    },
    {
      "cell_type": "code",
      "source": [
        "company_structure = {\"Sales\": {\"John\": {\"role\": \"Sales Manager\", \"age\": 35},\"Jane\": {\"role\": \"Account Executive\", \"age\": 28}},\n",
        "\"Marketing\": {\"Mike\": {\"role\": \"Marketing Director\", \"age\": 40}, \"Sarah\": {\"role\": \"Social Media Specialist\", \"age\": 25}},\n",
        "\"Engineering\": {\"David\": {\"role\": \"Software Engineer\", \"age\": 30}}}\n",
        "print(company_structure[\"Sales\"][\"John\"][\"role\"])\n"
      ],
      "metadata": {
        "colab": {
          "base_uri": "https://localhost:8080/"
        },
        "id": "nXwrh_526GU_",
        "outputId": "038f36be-f942-4d91-8b3e-2c7e0895fe3b"
      },
      "execution_count": null,
      "outputs": [
        {
          "output_type": "stream",
          "name": "stdout",
          "text": [
            "Sales Manager\n"
          ]
        }
      ]
    },
    {
      "cell_type": "markdown",
      "source": [
        "17. Describe the time complexity of accessing elements in a dictionary.\n",
        "* Accessing an element in a Python list by its index is an efficient operation with constant time complexity. Under the hood, lists use an underlying array structure to store their elements. This enables direct access to any element by index, resulting in O(1) complexity.\n",
        "\n",
        "18. In what situations are lists preferred over dictionaries?\n",
        "* Lists are great to use when you want to work with many related values. They enable you to keep data together that belongs together.\n",
        "\n",
        "19. Why are dictionaries considered unordered, and how does that affect data retrieval?\n",
        "* Dictionaries are considered unordered because they do not maintain a specific order of their key-value pairs when accessed.\n",
        "\n",
        "20.  Explain the difference between a list and a dictionary in items of data retrieval.\n",
        "* list Access by index (position), dictionary access by key.\n",
        "* Time Complexity of list is O(1) for direct access, Time Complexity of dictionary is O(1) average, O(n) worst case.\n",
        "* O(n) for searching an item, O(1) for key-based lookups\n",
        "* Ordered collection where position matters for use case in list, Key-value storage where fast lookup is needed for use in dictionary.\n"
      ],
      "metadata": {
        "id": "MbYYidghqENL"
      }
    },
    {
      "cell_type": "code",
      "source": [
        "# Practical Questions.\n",
        "#1.  Write a code to create a string with your name and print it.\n",
        "name = \"Ranjith\"\n",
        "print(name)\n"
      ],
      "metadata": {
        "id": "BGyVnOkk6I9z",
        "colab": {
          "base_uri": "https://localhost:8080/"
        },
        "outputId": "a5557f47-bb70-43e2-d002-4b7b1f1a1bba"
      },
      "execution_count": null,
      "outputs": [
        {
          "output_type": "stream",
          "name": "stdout",
          "text": [
            "Ranjith\n"
          ]
        }
      ]
    },
    {
      "cell_type": "code",
      "source": [
        "#2. 2. Write a code to find the length of the string \"Hello world\".\n",
        "text = \"Hello world\"\n",
        "len(text)\n",
        "\n"
      ],
      "metadata": {
        "colab": {
          "base_uri": "https://localhost:8080/"
        },
        "id": "MIayFk4nuF25",
        "outputId": "fb3c4035-588b-48f0-86ef-1695c13d916f"
      },
      "execution_count": null,
      "outputs": [
        {
          "output_type": "execute_result",
          "data": {
            "text/plain": [
              "11"
            ]
          },
          "metadata": {},
          "execution_count": 3
        }
      ]
    },
    {
      "cell_type": "code",
      "source": [
        "#3. Write a code to slice the first 3 characters from the string \"Python programming\"\n",
        "text = \"Python Programming\"\n",
        "sliced_text = text[:3]\n",
        "print(sliced_text)"
      ],
      "metadata": {
        "colab": {
          "base_uri": "https://localhost:8080/"
        },
        "id": "3mgn6bx5vIsI",
        "outputId": "62aae99b-88b0-4266-e929-36e8043b68b5"
      },
      "execution_count": null,
      "outputs": [
        {
          "output_type": "stream",
          "name": "stdout",
          "text": [
            "Pyt\n"
          ]
        }
      ]
    },
    {
      "cell_type": "code",
      "source": [
        "#4. Write a code to convert the string \"hello\" to uppercase.\n",
        "text = \"hello\"\n",
        "uppercase_text = text.upper()\n",
        "print(uppercase_text)"
      ],
      "metadata": {
        "colab": {
          "base_uri": "https://localhost:8080/"
        },
        "id": "Tvx4jvSUwFeZ",
        "outputId": "b567a7e5-b836-4d34-c8e6-870a076122f2"
      },
      "execution_count": null,
      "outputs": [
        {
          "output_type": "stream",
          "name": "stdout",
          "text": [
            "HELLO\n"
          ]
        }
      ]
    },
    {
      "cell_type": "code",
      "source": [
        "#5. Write a code to replace the word \"apple\" with \"orange\" in the string \"I like apple\".\n",
        "text = \"I like apple\"\n",
        "replaced_text = text.replace(\"apple\", \"orange\")\n",
        "print(replaced_text)"
      ],
      "metadata": {
        "colab": {
          "base_uri": "https://localhost:8080/"
        },
        "id": "aIzzXkICwlMV",
        "outputId": "cc1da4b9-f86a-4ce4-e006-586a8055328c"
      },
      "execution_count": null,
      "outputs": [
        {
          "output_type": "stream",
          "name": "stdout",
          "text": [
            "I like orange\n"
          ]
        }
      ]
    },
    {
      "cell_type": "code",
      "source": [
        "#6. Write a code to creat a list with numbers 1 to 5 and print it.\n",
        "numbers = [1, 2, 3, 4, 5]\n",
        "print(numbers)"
      ],
      "metadata": {
        "colab": {
          "base_uri": "https://localhost:8080/"
        },
        "id": "NVgOyl6Uw67r",
        "outputId": "d843eaf2-5e18-4fce-c53b-c4991058ca72"
      },
      "execution_count": null,
      "outputs": [
        {
          "output_type": "stream",
          "name": "stdout",
          "text": [
            "[1, 2, 3, 4, 5]\n"
          ]
        }
      ]
    },
    {
      "cell_type": "code",
      "source": [
        "#7. Write a code to append the number 10 to the list [1, 2, 3, 4]\n",
        "numbers = [1, 2, 3, 4]\n",
        "numbers.append(10)\n",
        "print(numbers)"
      ],
      "metadata": {
        "colab": {
          "base_uri": "https://localhost:8080/"
        },
        "id": "EIgKrQgyxjjY",
        "outputId": "42a45752-b5c1-46cd-fc8a-d213290e5725"
      },
      "execution_count": null,
      "outputs": [
        {
          "output_type": "stream",
          "name": "stdout",
          "text": [
            "[1, 2, 3, 4, 10]\n"
          ]
        }
      ]
    },
    {
      "cell_type": "code",
      "source": [
        "#8. Write a code to remove the number 3 from the list [1, 2, 3, 4, 5]\n",
        "numbers = [1, 2, 3, 4, 5]\n",
        "numbers.remove(3)\n",
        "print(numbers)"
      ],
      "metadata": {
        "colab": {
          "base_uri": "https://localhost:8080/"
        },
        "id": "J8LGg4QExxYF",
        "outputId": "1caba4cb-6f1a-44d1-b02a-480feb500e56"
      },
      "execution_count": null,
      "outputs": [
        {
          "output_type": "stream",
          "name": "stdout",
          "text": [
            "[1, 2, 4, 5]\n"
          ]
        }
      ]
    },
    {
      "cell_type": "code",
      "source": [
        "#9. Write a code to access the second element in the list ['a', 'b', 'c', 'd']\n",
        "let = ['a', 'b', 'c', 'd']\n",
        "print(let[1])"
      ],
      "metadata": {
        "colab": {
          "base_uri": "https://localhost:8080/"
        },
        "id": "GbNDl4AnyFbn",
        "outputId": "cfca0000-3ded-4691-b0dc-f9acff1e8b90"
      },
      "execution_count": null,
      "outputs": [
        {
          "output_type": "stream",
          "name": "stdout",
          "text": [
            "b\n"
          ]
        }
      ]
    },
    {
      "cell_type": "code",
      "source": [
        "#10. Write a code to reverse the list [10, 20, 30, 40, 50]\n",
        "numbers = [10, 20, 30, 40, 50]\n",
        "numbers.reverse()\n",
        "print(numbers)"
      ],
      "metadata": {
        "colab": {
          "base_uri": "https://localhost:8080/"
        },
        "id": "5pNYikrHyfAs",
        "outputId": "0a19ecb1-743f-47d7-b252-30060be4ea8f"
      },
      "execution_count": null,
      "outputs": [
        {
          "output_type": "stream",
          "name": "stdout",
          "text": [
            "[50, 40, 30, 20, 10]\n"
          ]
        }
      ]
    },
    {
      "cell_type": "code",
      "source": [
        "#11. Write a code to creat a tuple with the elements 100, 200, 300 and print it.\n",
        "numbers = (100, 200, 300)\n",
        "print(numbers)"
      ],
      "metadata": {
        "colab": {
          "base_uri": "https://localhost:8080/"
        },
        "id": "dixUAO85y2nf",
        "outputId": "ddde8713-6e28-475f-9e4d-96fed07e2262"
      },
      "execution_count": null,
      "outputs": [
        {
          "output_type": "stream",
          "name": "stdout",
          "text": [
            "(100, 200, 300)\n"
          ]
        }
      ]
    },
    {
      "cell_type": "code",
      "source": [
        "#12. Write a code to access the second to last element of the tuple (\"red\", \"green\", \"blue\", \"yellow\")\n",
        "colors = (\"red\", \"green\", \"blue\", \"yellow\")\n",
        "print(colors[-2])"
      ],
      "metadata": {
        "colab": {
          "base_uri": "https://localhost:8080/"
        },
        "id": "BlZzYeo-0xc0",
        "outputId": "68feab22-e9f3-46ee-9804-cc034a4130f1"
      },
      "execution_count": null,
      "outputs": [
        {
          "output_type": "stream",
          "name": "stdout",
          "text": [
            "blue\n"
          ]
        }
      ]
    },
    {
      "cell_type": "code",
      "source": [
        "#13. Write a code to find the minimum number in the tuple (10, 20, 5, 15).\n",
        "numbers = (10, 20, 5, 15)\n",
        "print(min(numbers))"
      ],
      "metadata": {
        "colab": {
          "base_uri": "https://localhost:8080/"
        },
        "id": "zIPpK6Rm1KoV",
        "outputId": "780aed09-8c42-4450-eb24-df0a4ec97dcd"
      },
      "execution_count": null,
      "outputs": [
        {
          "output_type": "stream",
          "name": "stdout",
          "text": [
            "5\n"
          ]
        }
      ]
    },
    {
      "cell_type": "code",
      "source": [
        "#14. Write a code to find the index of element \"cat\" in the tuple (\"dog\", \"cat\", \"rabbit\")\n",
        "animals = (\"dog\", \"cat\", \"rabbit\")\n",
        "print(animals.index(\"cat\"))"
      ],
      "metadata": {
        "colab": {
          "base_uri": "https://localhost:8080/"
        },
        "id": "s7vBJwt-1hMu",
        "outputId": "7ff6227c-f496-4e86-8997-4243abed24ba"
      },
      "execution_count": null,
      "outputs": [
        {
          "output_type": "stream",
          "name": "stdout",
          "text": [
            "1\n"
          ]
        }
      ]
    },
    {
      "cell_type": "code",
      "source": [
        "#15. Write a code to creat a tuple containing three different fruits and check if \"kiwi\" is in it.\n",
        "fruits = (\"apple\", \"banana\", \"orange\")\n",
        "if \"kiwi\" in fruits:\n",
        "    print(\"kiwi is in the tuple\")\n",
        "else:\n",
        "    print(\"kiwi is not in the tuple\")\n",
        "\n"
      ],
      "metadata": {
        "colab": {
          "base_uri": "https://localhost:8080/"
        },
        "id": "c8qtrp4p3pPM",
        "outputId": "a13443dd-c280-494e-cbb2-b262a32bcd02"
      },
      "execution_count": null,
      "outputs": [
        {
          "output_type": "stream",
          "name": "stdout",
          "text": [
            "kiwi is not in the tuple\n"
          ]
        }
      ]
    },
    {
      "cell_type": "code",
      "source": [
        "fruits = (\"apple\", \"banana\", \"kiwi\")\n",
        "if \"kiwi\" in fruits:\n",
        "    print(\"kiwi is in the tuple\")\n",
        "else:\n",
        "    print(\"kiwi is not in the tuple\")"
      ],
      "metadata": {
        "colab": {
          "base_uri": "https://localhost:8080/"
        },
        "id": "PHNgmKr23-ni",
        "outputId": "f5509f83-2abd-4287-f801-3f8bb789f11f"
      },
      "execution_count": null,
      "outputs": [
        {
          "output_type": "stream",
          "name": "stdout",
          "text": [
            "kiwi is in the tuple\n"
          ]
        }
      ]
    },
    {
      "cell_type": "code",
      "source": [
        "#16. Write a code to create a set with the elements 'a', 'b', 'c' and print it.\n",
        "letters = {\"a\", \"b\", \"c\"}\n",
        "print(letters)"
      ],
      "metadata": {
        "colab": {
          "base_uri": "https://localhost:8080/"
        },
        "id": "cmvM4pEl4QQz",
        "outputId": "02ede44a-2a4f-49f7-8afc-ec32cc9004d0"
      },
      "execution_count": null,
      "outputs": [
        {
          "output_type": "stream",
          "name": "stdout",
          "text": [
            "{'c', 'a', 'b'}\n"
          ]
        }
      ]
    },
    {
      "cell_type": "code",
      "source": [
        "#17. Write a code to clear all element from the set {1, 2, 3, 4, 5}.\n",
        "numbers = {1, 2, 3, 4, 5}\n",
        "numbers.clear()\n",
        "print(numbers)"
      ],
      "metadata": {
        "colab": {
          "base_uri": "https://localhost:8080/"
        },
        "id": "-d7heezc4hzy",
        "outputId": "cce78267-1f58-443e-d01b-077731f4f90d"
      },
      "execution_count": null,
      "outputs": [
        {
          "output_type": "stream",
          "name": "stdout",
          "text": [
            "set()\n"
          ]
        }
      ]
    },
    {
      "cell_type": "code",
      "source": [
        "#18. Write a code to remove the element 4 from the set {1, 2, 3, 4}\n",
        "numbers = {1, 2, 3, 4}\n",
        "numbers.remove(4)\n",
        "print(numbers)"
      ],
      "metadata": {
        "colab": {
          "base_uri": "https://localhost:8080/"
        },
        "id": "e5K1tLFP5J_D",
        "outputId": "d6858333-7bf8-4bf7-b553-445f86cd5ba5"
      },
      "execution_count": null,
      "outputs": [
        {
          "output_type": "stream",
          "name": "stdout",
          "text": [
            "{1, 2, 3}\n"
          ]
        }
      ]
    },
    {
      "cell_type": "code",
      "source": [
        "#19. 19. Write a code to find the union of two sets {1, 2, 3} and {3, 4, 5}\n",
        "set1 = {1, 2, 3}\n",
        "set2 = {3, 4, 5}\n",
        "union_set = set1.union(set2)\n",
        "print(union_set)"
      ],
      "metadata": {
        "colab": {
          "base_uri": "https://localhost:8080/"
        },
        "id": "VtVoFNUAN5SF",
        "outputId": "140e31a7-f00d-4bc5-be5c-0d73ea4bf554"
      },
      "execution_count": null,
      "outputs": [
        {
          "output_type": "stream",
          "name": "stdout",
          "text": [
            "{1, 2, 3, 4, 5}\n"
          ]
        }
      ]
    },
    {
      "cell_type": "code",
      "source": [
        "#20. Write a code to find the intersection of two sets {1, 2, 3} and {2, 3, 4}.\n",
        "set1 = {1, 2, 3}\n",
        "set2 = {2, 3, 4}\n",
        "intersection_set = set1.intersection(set2)\n",
        "print(intersection_set)"
      ],
      "metadata": {
        "colab": {
          "base_uri": "https://localhost:8080/"
        },
        "id": "AzZ0CrXTOKVe",
        "outputId": "538b6014-80fd-409c-c72a-527ebb0905a5"
      },
      "execution_count": null,
      "outputs": [
        {
          "output_type": "stream",
          "name": "stdout",
          "text": [
            "{2, 3}\n"
          ]
        }
      ]
    },
    {
      "cell_type": "code",
      "source": [
        "#21. Write a code to create a dictionary with the keys \"name \", \"age\", and \"city\", and print it.\n",
        "person = {\"name\": \"Ranjith\", \"age\": 28, \"city\": \"Bangalore\"}\n",
        "print(person)"
      ],
      "metadata": {
        "colab": {
          "base_uri": "https://localhost:8080/"
        },
        "id": "69XlbCalOwgr",
        "outputId": "902df565-8262-4220-8b64-e995857ebb0b"
      },
      "execution_count": null,
      "outputs": [
        {
          "output_type": "stream",
          "name": "stdout",
          "text": [
            "{'name': 'Ranjith', 'age': 28, 'city': 'Bangalore'}\n"
          ]
        }
      ]
    },
    {
      "cell_type": "code",
      "source": [
        "#22. Write a code to add a new key value pair \"county\":\"USA\" to the dictionary {\"name\": \"John\", \"age\":25}\n",
        "person = {\"name\": \"John\", \"age\": 25}\n",
        "person[\"county\"] = \"USA\"\n",
        "print(person)"
      ],
      "metadata": {
        "colab": {
          "base_uri": "https://localhost:8080/"
        },
        "id": "5hmiiSgaPLZa",
        "outputId": "fc9f0303-f903-40be-cab4-9b7833d7257a"
      },
      "execution_count": null,
      "outputs": [
        {
          "output_type": "stream",
          "name": "stdout",
          "text": [
            "{'name': 'John', 'age': 25, 'county': 'USA'}\n"
          ]
        }
      ]
    },
    {
      "cell_type": "code",
      "source": [
        "#23. Write a code to access the value associated with the key \"name\" in the dictionary {\"name\": \"Alice\", \"age\": 30}.\n",
        "person = {\"name\": \"Alice\", \"age\": 30}\n",
        "print(person[\"name\"])"
      ],
      "metadata": {
        "colab": {
          "base_uri": "https://localhost:8080/"
        },
        "id": "5OajbW7NPmjW",
        "outputId": "92975c72-201d-47ba-a34f-36ab667f1648"
      },
      "execution_count": null,
      "outputs": [
        {
          "output_type": "stream",
          "name": "stdout",
          "text": [
            "Alice\n"
          ]
        }
      ]
    },
    {
      "cell_type": "code",
      "source": [
        "#24. Write a code to remove the key\"age\" from the dictionary {\"name\": \"Bob\", \"age\":22, \"city\":\"New york\"}\n",
        "person = {\"name\": \"Bob\", \"age\": 22, \"city\": \"New York\"}\n",
        "del person[\"age\"]\n",
        "print(person)"
      ],
      "metadata": {
        "colab": {
          "base_uri": "https://localhost:8080/"
        },
        "id": "ZHwYdhI0QJQJ",
        "outputId": "83a990d1-74a9-4e51-df3b-ef1c35c89523"
      },
      "execution_count": null,
      "outputs": [
        {
          "output_type": "stream",
          "name": "stdout",
          "text": [
            "{'name': 'Bob', 'city': 'New York'}\n"
          ]
        }
      ]
    },
    {
      "cell_type": "code",
      "source": [
        "#25. Write a code to check if the key \"city\" exists in the dictionary {\"name\": \"Alice\", \"city\": \"Paris\"}\n",
        "dic = {\"name\": \"Alice\", \"city\": \"Paris\"}\n",
        "if \"city\" in dic:\n",
        "    print(\"The key 'city' exists in the dictionary.\")\n",
        "else:\n",
        "    print(\"The key 'city' does not exist in the dictionary.\")"
      ],
      "metadata": {
        "colab": {
          "base_uri": "https://localhost:8080/"
        },
        "id": "AXQb6caXQr29",
        "outputId": "5896180b-e8c3-408d-f6f0-15a14afbc787"
      },
      "execution_count": null,
      "outputs": [
        {
          "output_type": "stream",
          "name": "stdout",
          "text": [
            "The key 'city' exists in the dictionary.\n"
          ]
        }
      ]
    },
    {
      "cell_type": "code",
      "source": [
        "#26. Write a code to create a list, a tuple, and a dictionary, and print them all.\n",
        "my_list = [1, 2, 3, 4, 5]\n",
        "my_tuple = (10, 20, 30, 40, 50)\n",
        "my_dict = {\"name\": \"Ranjith\", \"age\": 28, \"city\": \"Bangalore\"}\n",
        "print(\"List:\", my_list)\n",
        "print(\"Tuple:\", my_tuple)\n",
        "print(\"Dictionary:\", my_dict)"
      ],
      "metadata": {
        "colab": {
          "base_uri": "https://localhost:8080/"
        },
        "id": "AZgSL_UaRMkM",
        "outputId": "cbc9b2c0-f94d-4a0a-b0e1-070dfdeacc88"
      },
      "execution_count": null,
      "outputs": [
        {
          "output_type": "stream",
          "name": "stdout",
          "text": [
            "List: [1, 2, 3, 4, 5]\n",
            "Tuple: (10, 20, 30, 40, 50)\n",
            "Dictionary: {'name': 'Ranjith', 'age': 28, 'city': 'Bangalore'}\n"
          ]
        }
      ]
    },
    {
      "cell_type": "code",
      "source": [
        "#27. Write a code to create a list of 5 random numbers between 1 and 100, sort it in ascending order, and print the result.\n",
        "import random\n",
        "random_numbers = [random.randint(1, 100) for _ in range(5)]\n",
        "random_numbers.sort()\n",
        "print(random_numbers)\n"
      ],
      "metadata": {
        "colab": {
          "base_uri": "https://localhost:8080/"
        },
        "id": "0hEwrD-BRbBU",
        "outputId": "8bde711a-42f2-4266-919b-318280c0a65a"
      },
      "execution_count": null,
      "outputs": [
        {
          "output_type": "stream",
          "name": "stdout",
          "text": [
            "[19, 32, 36, 62, 72]\n"
          ]
        }
      ]
    },
    {
      "cell_type": "code",
      "source": [
        "#28. Write a code to create a list with strings and print the element at the third index.\n",
        "string_list = [\"apple\", \"banana\", \"cherry\", \"date\", \"elderberry\"]\n",
        "print(string_list[2])"
      ],
      "metadata": {
        "id": "IinLBjQpSjzM",
        "colab": {
          "base_uri": "https://localhost:8080/"
        },
        "outputId": "74b2f346-1c1f-49e0-84e7-af98bb3fc415"
      },
      "execution_count": null,
      "outputs": [
        {
          "output_type": "stream",
          "name": "stdout",
          "text": [
            "cherry\n"
          ]
        }
      ]
    },
    {
      "cell_type": "code",
      "source": [
        "#29. Write a code to combine two dictionaries into one and print the result.\n",
        "dict1 = {\"a\": \"Ranjith\", \"b\": \"pawan\"}\n",
        "dict2 = {\"c\": \"Sree\", \"d\": \"Manjo\"}\n",
        "combined_dict = {**dict1, **dict2}\n",
        "print(combined_dict)"
      ],
      "metadata": {
        "colab": {
          "base_uri": "https://localhost:8080/"
        },
        "id": "BhWPhpvqUdDN",
        "outputId": "8509bdb6-946e-4bd1-d81f-d9031275cf15"
      },
      "execution_count": null,
      "outputs": [
        {
          "output_type": "stream",
          "name": "stdout",
          "text": [
            "{'a': 'Ranjith', 'b': 'pawan', 'c': 'Sree', 'd': 'Manjo'}\n"
          ]
        }
      ]
    },
    {
      "cell_type": "code",
      "source": [
        "#30. Write a code to convert a list of strings into a set.\n",
        "list = [\"apple\", \"banana\", \"cherry\", \"date\", \"elderberry\"]\n",
        "string_set = set(list)\n",
        "print(string_set)"
      ],
      "metadata": {
        "colab": {
          "base_uri": "https://localhost:8080/"
        },
        "id": "nQAK_08OU9Kt",
        "outputId": "5711f4f3-a631-44c9-a00b-aef202d5efda"
      },
      "execution_count": null,
      "outputs": [
        {
          "output_type": "stream",
          "name": "stdout",
          "text": [
            "{'apple', 'date', 'cherry', 'banana', 'elderberry'}\n"
          ]
        }
      ]
    },
    {
      "cell_type": "code",
      "source": [],
      "metadata": {
        "id": "5c9uLQ_CDrq6"
      },
      "execution_count": null,
      "outputs": []
    }
  ]
}